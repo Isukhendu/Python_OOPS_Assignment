{
  "nbformat": 4,
  "nbformat_minor": 0,
  "metadata": {
    "colab": {
      "provenance": []
    },
    "kernelspec": {
      "name": "python3",
      "display_name": "Python 3"
    },
    "language_info": {
      "name": "python"
    }
  },
  "cells": [
    {
      "cell_type": "markdown",
      "source": [
        "**Python OOPs Questions & Answers**\n"
      ],
      "metadata": {
        "id": "Ob0ZptKLli85"
      }
    },
    {
      "cell_type": "markdown",
      "source": [
        "**Q1. What is Object-Oriented Programming (OOP)?**\n",
        " - Object-Oriented Programming (OOP) in Python is a programming paradigm that organizes software design around data, or \"objects,\" rather than functions and logic. This approach allows developers to model real-world entities and their behaviors, making code more modular, reusable, and easier to maintain.\n"
      ],
      "metadata": {
        "id": "ZgxYc5DGlsoQ"
      }
    },
    {
      "cell_type": "markdown",
      "source": [
        "**Q2. What is a class in OOP?**\n",
        " - A class in Object-Oriented Programming (OOP) is a fundamental construct that serves as a blueprint for creating objects. It encapsulates data and behavior, allowing developers to define the properties (attributes) and methods (functions) that characterize the objects created from it.\n"
      ],
      "metadata": {
        "id": "uxIWhrnGsVHS"
      }
    },
    {
      "cell_type": "markdown",
      "source": [
        "**Q3. What is an object in OOP?**\n",
        " - An object in Object-Oriented Programming (OOP) is a fundamental unit that represents an instance of a class. It encapsulates both data (attributes) and behavior (methods), allowing it to model real-world entities or abstract concepts within a program.\n"
      ],
      "metadata": {
        "id": "uY9o_I-Es3s_"
      }
    },
    {
      "cell_type": "markdown",
      "source": [
        "**Q4. What is the difference between abstraction and encapsulation?**\n",
        " - Abstraction and encapsulation are two fundamental concepts in Object-Oriented Programming (OOP), Abstraction hides complexity by exposing essential features while Encapsulation Hides data to protect object integrity.\n"
      ],
      "metadata": {
        "id": "wTWtJEWmtsJf"
      }
    },
    {
      "cell_type": "markdown",
      "source": [
        "**Q5. What are dunder methods in Python?**\n",
        "- Dunder methods, short for \"double underscore\" methods, are special predefined methods in Python that have names beginning and ending with two underscores (e.g., '_ _ init_ _' , _ _ str_ _ ). These methods enable objects to interact with Python's built-in functions and operators, effectively allowing for operator overloading and custom behavior for instances of user-defined classes.\n"
      ],
      "metadata": {
        "id": "iFw1qgvAuny4"
      }
    },
    {
      "cell_type": "markdown",
      "source": [
        "**Q6. Explain the concept of inheritance in OOP.**\n",
        "- Inheritance is a core concept in Object-Oriented Programming (OOP) that allows a new class, known as a subclass or derived class, to inherit properties and methods from an existing class, referred to as the superclass or base class. This mechanism promotes code reusability, enhances maintainability, and establishes a hierarchical relationship between classes.\n",
        "\n",
        "*Example*"
      ],
      "metadata": {
        "id": "Mv8V5_q-vGg_"
      }
    },
    {
      "cell_type": "code",
      "source": [
        "class Animal:\n",
        "    def speak(self):\n",
        "        return \"Animal speaks\"\n",
        "\n",
        "class Dog(Animal):  # Dog inherits from Animal\n",
        "    def speak(self):\n",
        "        return \"Woof!\"\n",
        "\n",
        "class Cat(Animal):  # Cat also inherits from Animal\n",
        "    def speak(self):\n",
        "        return \"Meow!\"\n",
        "\n",
        "# Creating instances\n",
        "dog = Dog()\n",
        "cat = Cat()\n",
        "\n",
        "print(dog.speak())  # Output: Woof!\n",
        "print(cat.speak())  # Output: Meow!\n"
      ],
      "metadata": {
        "colab": {
          "base_uri": "https://localhost:8080/"
        },
        "id": "jqJ1_acXvhXH",
        "outputId": "4b9ba5e8-13eb-4bb9-955e-5f424857c160"
      },
      "execution_count": null,
      "outputs": [
        {
          "output_type": "stream",
          "name": "stdout",
          "text": [
            "Woof!\n",
            "Meow!\n"
          ]
        }
      ]
    },
    {
      "cell_type": "markdown",
      "source": [
        "**Q7. What is polymorphism in OOP?**\n",
        "- Polymorphism is a fundamental concept in Object-Oriented Programming (OOP) that allows objects of different classes to be treated as objects of a common superclass. This capability enables a single interface to represent different underlying data types, allowing for flexibility and extensibility in code design.\n"
      ],
      "metadata": {
        "id": "MGFdyHafvvYI"
      }
    },
    {
      "cell_type": "markdown",
      "source": [
        "**Q8. How is encapsulation achieved in Python?**\n",
        "- Encapsulation in Python is achieved through naming conventions for attributes, along with getter and setter methods or property decorators, which collectively protect an object's data while providing controlled access.\n",
        "\n",
        "*Example*\n"
      ],
      "metadata": {
        "id": "GPHDUBlDv7Zo"
      }
    },
    {
      "cell_type": "code",
      "source": [
        "class BankAccount:\n",
        "    def __init__(self):\n",
        "        self.__balance = 0  # Private attribute\n",
        "\n",
        "    def deposit(self, amount):\n",
        "        if amount > 0:\n",
        "            self.__balance += amount\n",
        "\n",
        "    def withdraw(self, amount):\n",
        "        if 0 < amount <= self.__balance:\n",
        "            self.__balance -= amount\n",
        "        else:\n",
        "            print(\"Insufficient balance or invalid amount\")\n",
        "\n",
        "    def get_balance(self):  # Getter method\n",
        "        return self.__balance\n",
        "\n",
        "# Creating an instance of BankAccount\n",
        "account = BankAccount()\n",
        "account.deposit(1000)\n",
        "account.withdraw(500)\n",
        "print(account.get_balance())  # Output: 500\n",
        "\n",
        "# Attempting to access the private attribute directly will raise an error\n",
        "# print(account.__balance)  # AttributeError\n"
      ],
      "metadata": {
        "colab": {
          "base_uri": "https://localhost:8080/"
        },
        "id": "1VYAtsU0wOnI",
        "outputId": "e89ed983-a6db-41e1-ace7-aea989e569f9"
      },
      "execution_count": null,
      "outputs": [
        {
          "output_type": "stream",
          "name": "stdout",
          "text": [
            "500\n"
          ]
        }
      ]
    },
    {
      "cell_type": "markdown",
      "source": [
        "**Q9. What is a constructor in Python?**\n",
        "- A constructor in Python is a special method that is automatically invoked when an object of a class is created. Its primary purpose is to initialize the object's attributes and set up its initial state. The constructor in Python is defined using the ___init__ _() method.\n",
        "\n",
        "*Example*"
      ],
      "metadata": {
        "id": "rQvdg3Kcwh13"
      }
    },
    {
      "cell_type": "code",
      "source": [
        "class Person:\n",
        "    def __init__(self, name, age):  # Parameterized constructor\n",
        "        self.name = name\n",
        "        self.age = age\n",
        "\n",
        "    def display(self):\n",
        "        print(f\"Name: {self.name}, Age: {self.age}\")\n",
        "\n",
        "# Creating an instance using the parameterized constructor\n",
        "person1 = Person(\"Alice\", 30)\n",
        "person1.display()  # Output: Name: Alice, Age: 30\n",
        "\n",
        "class Animal:\n",
        "    def __init__(self):  # Default constructor\n",
        "        self.species = \"Unknown\"\n",
        "\n",
        "    def display(self):\n",
        "        print(f\"Species: {self.species}\")\n",
        "\n",
        "# Creating an instance using the default constructor\n",
        "animal1 = Animal()\n",
        "animal1.display()  # Output: Species: Unknown\n"
      ],
      "metadata": {
        "colab": {
          "base_uri": "https://localhost:8080/"
        },
        "id": "46j-j2_jxopn",
        "outputId": "26deb870-93da-446e-b648-cf53509f227a"
      },
      "execution_count": null,
      "outputs": [
        {
          "output_type": "stream",
          "name": "stdout",
          "text": [
            "Name: Alice, Age: 30\n",
            "Species: Unknown\n"
          ]
        }
      ]
    },
    {
      "cell_type": "markdown",
      "source": [
        "**Q10. What are class and static methods in Python?**\n",
        " - In Python, class methods and static methods are two types of methods that serve different purposes within a class. Both are defined within a class but differ in how they interact with class and instance data.The Class method takes **cls** which refers to the class and defined with **@classmethod**, whereas the Static method has no special first parameter and defined with **@staticmethod.**\n"
      ],
      "metadata": {
        "id": "xYxY5_-Mx_6w"
      }
    },
    {
      "cell_type": "markdown",
      "source": [
        "**Q11. What is method overloading in Python?**\n",
        "- Method overloading in Python refers to the ability to define multiple methods with the same name but different parameters within a class. However, unlike some other programming languages (like Java or C++), Python does not support traditional method overloading directly. Instead, if multiple methods are defined with the same name, the last definition will override any previous ones.\n",
        "\n",
        "*example*\n"
      ],
      "metadata": {
        "id": "-DbWJ28Oy2gw"
      }
    },
    {
      "cell_type": "code",
      "source": [
        "class Example:\n",
        "    def add(self, *args):\n",
        "        return sum(args)  # Sums all provided arguments\n",
        "\n",
        "# Creating an instance of Example\n",
        "obj = Example()\n",
        "\n",
        "# Testing the overloaded method\n",
        "print(obj.add(10, 20, 30))  # Output: 60 (three arguments)\n",
        "print(obj.add(10, 20))      # Output: 30 (two arguments)\n",
        "print(obj.add(10))          # Output: 10 (one argument)\n",
        "print(obj.add())            # Output: 0 (no arguments)\n"
      ],
      "metadata": {
        "colab": {
          "base_uri": "https://localhost:8080/"
        },
        "id": "D87S92Lg0dJo",
        "outputId": "74897ad7-049f-48c8-b584-283e05b02505"
      },
      "execution_count": null,
      "outputs": [
        {
          "output_type": "stream",
          "name": "stdout",
          "text": [
            "60\n",
            "30\n",
            "10\n",
            "0\n"
          ]
        }
      ]
    },
    {
      "cell_type": "markdown",
      "source": [
        "**Q12. What is method overriding in OOP?**\n",
        "- Method overriding is a fundamental concept in Object-Oriented Programming (OOP) that allows a subclass (or child class) to provide a specific implementation of a method that is already defined in its superclass (or parent class). This mechanism enables polymorphism, allowing the same method name to exhibit different behaviors based on the object invoking it.\n",
        "\n",
        "*example*\n"
      ],
      "metadata": {
        "id": "X4yhcE6Z0o4A"
      }
    },
    {
      "cell_type": "code",
      "source": [
        "class Animal:\n",
        "    def speak(self):\n",
        "        return \"Animal speaks\"\n",
        "\n",
        "class Dog(Animal):\n",
        "    def speak(self):  # Overriding the speak method\n",
        "        return \"Woof!\"\n",
        "\n",
        "class Cat(Animal):\n",
        "    def speak(self):  # Overriding the speak method\n",
        "        return \"Meow!\"\n",
        "\n",
        "# Creating instances of Dog and Cat\n",
        "dog = Dog()\n",
        "cat = Cat()\n",
        "\n",
        "# Demonstrating method overriding\n",
        "print(dog.speak())  # Output: Woof!\n",
        "print(cat.speak())  # Output: Meow!\n"
      ],
      "metadata": {
        "colab": {
          "base_uri": "https://localhost:8080/"
        },
        "id": "NuetTKgH02kI",
        "outputId": "66bcc928-e080-44b3-dfbc-90a7889ab6da"
      },
      "execution_count": null,
      "outputs": [
        {
          "output_type": "stream",
          "name": "stdout",
          "text": [
            "Woof!\n",
            "Meow!\n"
          ]
        }
      ]
    },
    {
      "cell_type": "markdown",
      "source": [
        "**Q13. What is a property decorator in Python?**\n",
        "- The property decorator in Python is a built-in feature that allows you to define managed attributes in classes, enabling controlled access to instance variables. It simplifies the process of creating getter, setter, and deleter methods for class attributes, making the code cleaner and more Pythonic.\n"
      ],
      "metadata": {
        "id": "kq7QFIHa04jy"
      }
    },
    {
      "cell_type": "markdown",
      "source": [
        "**Q14. Why is polymorphism important in OOP?**\n",
        "- Polymorphism is essential in OOP as it enhances code reusability, flexibility, maintainability, and abstraction while simplifying interfaces and supporting dynamic behavior in applications. Its ability to allow different classes to be treated uniformly through a common interface makes it a powerful tool for developers in creating robust and scalable software systems.\n"
      ],
      "metadata": {
        "id": "_LzgE1xC1I2Y"
      }
    },
    {
      "cell_type": "markdown",
      "source": [
        "**Q15. What is an abstract class in Python?**\n",
        "- An abstract class in Python is a class that cannot be instantiated on its own and serves as a blueprint for other classes. It is used to define a set of methods that must be implemented by any subclass that inherits from the abstract class. This ensures a consistent interface while allowing subclasses to provide specific implementations.\n",
        "\n"
      ],
      "metadata": {
        "id": "vFIuVLoB1rhw"
      }
    },
    {
      "cell_type": "markdown",
      "source": [
        "**Q16. What are the advantages of OOP?**\n",
        "- The advantages of Object-Oriented Programming include enhanced modularity, reusability, encapsulation, flexibility, maintainability, collaboration, polymorphism, improved problem-solving capabilities, design benefits, and reduced development costs. These features contribute to creating high-quality software that is easier to manage and adapt over time.\n"
      ],
      "metadata": {
        "id": "Qmp-R95t16IA"
      }
    },
    {
      "cell_type": "markdown",
      "source": [
        "**Q17.What is the difference between a class variable and an instance variable?**\n",
        "\n",
        " -  class variables are shared across all instances and defined at the class level, while instance variables are specific to each object and defined within methods. Understanding these differences is crucial for effective data management in object-oriented programming."
      ],
      "metadata": {
        "id": "BFCT3nyh2HzZ"
      }
    },
    {
      "cell_type": "markdown",
      "source": [
        "**Q18. What is multiple Inheritance in Python?**\n",
        "\n",
        "- Multiple inheritance in Python is a feature that allows a class (known as a derived or child class) to inherit attributes and methods from more than one base class (or parent class). This capability enables the derived class to combine functionalities from multiple sources, promoting code reuse and flexibility.\n"
      ],
      "metadata": {
        "id": "jl-JYfU22ldo"
      }
    },
    {
      "cell_type": "markdown",
      "source": [
        "**Q19. Explain the purpose of \"str' and 'repr_\" methods in Python.**\n",
        "\n",
        "- the __str__ method provides a simple, readable string representation suitable for end-users, while the __repr__ method offers a more detailed, unambiguous representation intended for developers. Implementing both methods in a class allows for more informative interactions with objects, catering to different needs depending on whether the audience is a user or a developer.\n"
      ],
      "metadata": {
        "id": "DB1ujw352w9x"
      }
    },
    {
      "cell_type": "markdown",
      "source": [
        "**Q20. What is the significance of the 'super()' function in Python?**\n",
        "\n",
        "-  The super() function in Python is a built-in function that provides a way to access methods and properties of a parent class from a child class. It is particularly useful in the context of inheritance, allowing subclasses to call methods from their superclass without explicitly naming it. This enhances code maintainability and flexibility.\n"
      ],
      "metadata": {
        "id": "U4EMrbGc3G7x"
      }
    },
    {
      "cell_type": "markdown",
      "source": [
        "**Q21. What is the significance of the_del__ method in Python?**\n",
        "\n",
        "- The __del__ method in Python plays a crucial role in resource management by allowing developers to define cleanup actions for objects before they are destroyed. While it provides useful functionality for managing resources, it should be used with caution due to potential pitfalls related to object lifecycle and garbage collection. In many cases, relying on context managers (using the with statement) for resource management may be preferred over implementing __del__.\n"
      ],
      "metadata": {
        "id": "bi-GtKBv3cwg"
      }
    },
    {
      "cell_type": "markdown",
      "source": [
        "**Q22.What is the difference between @staticmethod and @classmethod in Python?**\n",
        "\n",
        "- The @staticmethod and @classmethod decorators in Python are used to define methods that belong to a class rather than an instance of the class. However, they serve different purposes and have distinct characteristics.\n",
        "\n",
        "*example*"
      ],
      "metadata": {
        "id": "LhXg-bTx4Bhg"
      }
    },
    {
      "cell_type": "code",
      "source": [
        "class MyClass:\n",
        "    class_variable = 0\n",
        "\n",
        "    @staticmethod\n",
        "    def static_method(arg1, arg2):\n",
        "        return arg1 + arg2\n",
        "\n",
        "    @classmethod\n",
        "    def class_method(cls, value):\n",
        "        cls.class_variable += value\n",
        "        return cls.class_variable\n",
        "\n",
        "# Using static method\n",
        "result = MyClass.static_method(5, 10)\n",
        "print(result)  # Output: 15\n",
        "\n",
        "# Using class method\n",
        "new_value = MyClass.class_method(5)\n",
        "print(new_value)  # Output: 5\n",
        "new_value = MyClass.class_method(10)\n",
        "print(new_value)  # Output: 15\n"
      ],
      "metadata": {
        "colab": {
          "base_uri": "https://localhost:8080/"
        },
        "id": "FZ_iQnlt4Y1x",
        "outputId": "cf331c78-e16d-469d-d13f-a004ba14ebd3"
      },
      "execution_count": null,
      "outputs": [
        {
          "output_type": "stream",
          "name": "stdout",
          "text": [
            "15\n",
            "5\n",
            "15\n"
          ]
        }
      ]
    },
    {
      "cell_type": "markdown",
      "source": [
        "**Q23. How does polymorphism work in Python with inheritance?**\n",
        "\n",
        "- PPolymorphism in Python works effectively with inheritance by allowing subclasses to override methods from their parent classes. This enables dynamic method resolution and promotes a unified interface for interacting with different object types. The combination of these features leads to more flexible, maintainable, and reusable code structures in object-oriented programming.\n",
        "\n",
        "*example*\n"
      ],
      "metadata": {
        "id": "oXtur0Ka4etJ"
      }
    },
    {
      "cell_type": "code",
      "source": [
        "class Animal:\n",
        "    def speak(self):\n",
        "        return \"Some generic animal sound\"\n",
        "\n",
        "class Dog(Animal):\n",
        "    def speak(self):  # Overriding the speak method\n",
        "        return \"Bark\"\n",
        "\n",
        "class Cat(Animal):\n",
        "    def speak(self):  # Overriding the speak method\n",
        "        return \"Meow\"\n",
        "\n",
        "# List of animals\n",
        "animals = [Dog(), Cat()]\n",
        "\n",
        "# Demonstrating polymorphism\n",
        "for animal in animals:\n",
        "    print(animal.speak())  # Output: Bark \\n Meow\n"
      ],
      "metadata": {
        "colab": {
          "base_uri": "https://localhost:8080/"
        },
        "id": "CRVLlwnD4v4B",
        "outputId": "899913e1-0a01-4d42-84b7-fb59e1695ff9"
      },
      "execution_count": null,
      "outputs": [
        {
          "output_type": "stream",
          "name": "stdout",
          "text": [
            "Bark\n",
            "Meow\n"
          ]
        }
      ]
    },
    {
      "cell_type": "markdown",
      "source": [
        "**Q24. What is method chaining in Python OOP?**\n",
        "\n",
        "- Method chaining in Python is a programming technique that allows multiple method calls to be executed sequentially on the same object in a single line of code. This approach enhances code readability and conciseness by eliminating the need for intermediate variables or repeated method calls.\n",
        "\n",
        "*example*"
      ],
      "metadata": {
        "id": "gBmiPCGb49C5"
      }
    },
    {
      "cell_type": "code",
      "source": [
        "class Calculator:\n",
        "    def __init__(self):\n",
        "        self.value = 0\n",
        "\n",
        "    def add(self, num):\n",
        "        self.value += num\n",
        "        return self  # Return the instance for chaining\n",
        "\n",
        "    def subtract(self, num):\n",
        "        self.value -= num\n",
        "        return self  # Return the instance for chaining\n",
        "\n",
        "    def multiply(self, num):\n",
        "        self.value *= num\n",
        "        return self  # Return the instance for chaining\n",
        "\n",
        "    def get_result(self):\n",
        "        return self.value\n",
        "\n",
        "# Using method chaining\n",
        "calc = Calculator()\n",
        "result = calc.add(5).subtract(2).multiply(3).get_result()\n",
        "print(result)  # Output: 9\n"
      ],
      "metadata": {
        "colab": {
          "base_uri": "https://localhost:8080/"
        },
        "id": "q-B37ekp5Hf4",
        "outputId": "28d3cbb8-96b5-4765-d4cc-7638468c82f1"
      },
      "execution_count": null,
      "outputs": [
        {
          "output_type": "stream",
          "name": "stdout",
          "text": [
            "9\n"
          ]
        }
      ]
    },
    {
      "cell_type": "markdown",
      "source": [
        "**Q25. What is the purpose of the _call_ method in Python?**\n",
        " - The __call__ method in Python is a special method that allows instances of a class to be called as if they were functions. When an instance of a class with a defined __call__ method is invoked, Python internally calls the __call__ method, enabling the object to execute specific functionality.\n",
        "\n",
        " *example*\n",
        "\n"
      ],
      "metadata": {
        "id": "CAd62zyJ5QUA"
      }
    },
    {
      "cell_type": "code",
      "source": [
        "class Multiplier:\n",
        "    def __init__(self, factor):\n",
        "        self.factor = factor  # Store the multiplication factor\n",
        "\n",
        "    def __call__(self, value):\n",
        "        return value * self.factor  # Multiply the input by the factor\n",
        "\n",
        "# Creating an instance of Multiplier\n",
        "double = Multiplier(2)\n",
        "\n",
        "# Using the instance as a callable\n",
        "result = double(5)  # Calls double.__call__(5)\n",
        "print(result)  # Output: 10\n"
      ],
      "metadata": {
        "colab": {
          "base_uri": "https://localhost:8080/"
        },
        "id": "_nHvYRLM5jYi",
        "outputId": "d4ffee7a-7611-4cb5-b8e9-580e3e8af3af"
      },
      "execution_count": null,
      "outputs": [
        {
          "output_type": "stream",
          "name": "stdout",
          "text": [
            "10\n"
          ]
        }
      ]
    },
    {
      "cell_type": "markdown",
      "source": [
        "**Practical Questions & Answers**"
      ],
      "metadata": {
        "id": "hnxYnAoo30Dv"
      }
    },
    {
      "cell_type": "code",
      "source": [
        "#1. Create a parent class Animal with a method speak() that prints a generic message. Create a child class Dog that overrides the speak() method to print \"Bark!\n",
        "\n",
        "# Parent class\n",
        "class Animal:\n",
        "    def speak(self):\n",
        "        print(\"This animal makes a sound.\")\n",
        "\n",
        "# Child class\n",
        "class Dog(Animal):\n",
        "    def speak(self):\n",
        "        print(\"Bark\")\n",
        "\n",
        "# Create an instance of Animal\n",
        "generic_animal = Animal()\n",
        "generic_animal.speak()  # Output: This animal makes a sound.\n",
        "\n",
        "# Create an instance of Dog\n",
        "my_dog = Dog()\n",
        "my_dog.speak()\n",
        "\n"
      ],
      "metadata": {
        "colab": {
          "base_uri": "https://localhost:8080/"
        },
        "id": "cVFwxGiD37no",
        "outputId": "3856b354-5ca5-462b-d43d-a9aaa2f57668"
      },
      "execution_count": 4,
      "outputs": [
        {
          "output_type": "stream",
          "name": "stdout",
          "text": [
            "This animal makes a sound.\n",
            "Bark\n"
          ]
        }
      ]
    },
    {
      "cell_type": "code",
      "source": [
        "#2. Write a program to create an abstract class Shape with a method area(). Derive classes Circle and Rectangle from it and implement the area() method in both\n",
        "\n",
        "from abc import ABC, abstractmethod\n",
        "import math\n",
        "\n",
        "# Abstract class\n",
        "class Shape(ABC):\n",
        "    @abstractmethod\n",
        "    def area(self):\n",
        "        pass\n",
        "\n",
        "# Derived class for Circle\n",
        "class Circle(Shape):\n",
        "    def __init__(self, radius):\n",
        "        self.radius = radius\n",
        "\n",
        "    def area(self):\n",
        "        return math.pi * (self.radius ** 2)\n",
        "\n",
        "# Derived class for Rectangle\n",
        "class Rectangle(Shape):\n",
        "    def __init__(self, width, height):\n",
        "        self.width = width\n",
        "        self.height = height\n",
        "\n",
        "    def area(self):\n",
        "        return self.width * self.height\n",
        "\n",
        "\n",
        "# Create a Circle instance\n",
        "circle = Circle(5)\n",
        "print(f\"Area of the circle: {circle.area():.2f}\")\n",
        "\n",
        "# Create a Rectangle instance\n",
        "rectangle = Rectangle(4, 6)\n",
        "print(f\"Area of the rectangle: {rectangle.area()}\")\n"
      ],
      "metadata": {
        "colab": {
          "base_uri": "https://localhost:8080/"
        },
        "id": "bOLdZHCa4YtQ",
        "outputId": "28aec79f-63d1-478a-92c2-b6f34c18ecb2"
      },
      "execution_count": 5,
      "outputs": [
        {
          "output_type": "stream",
          "name": "stdout",
          "text": [
            "Area of the circle: 78.54\n",
            "Area of the rectangle: 24\n"
          ]
        }
      ]
    },
    {
      "cell_type": "code",
      "source": [
        "#3. Implement a multi-level inheritance scenario where a class Vehicle has an attribute type. Derive a class Car and further derive a class ElectricCar that adds a battery attribute\n",
        "# Base class\n",
        "class Vehicle:\n",
        "    def __init__(self, vehicle_type):\n",
        "        self.vehicle_type = vehicle_type\n",
        "\n",
        "    def display_type(self):\n",
        "        print(f\"Vehicle Type: {self.vehicle_type}\")\n",
        "\n",
        "# Derived class\n",
        "class Car(Vehicle):\n",
        "    def __init__(self, vehicle_type, brand):\n",
        "        super().__init__(vehicle_type)  # Call the constructor of Vehicle\n",
        "        self.brand = brand\n",
        "\n",
        "    def display_info(self):\n",
        "        self.display_type()  # Call method from Vehicle\n",
        "        print(f\"Brand: {self.brand}\")\n",
        "\n",
        "# Further derived class\n",
        "class ElectricCar(Car):\n",
        "    def __init__(self, vehicle_type, brand, battery_capacity):\n",
        "        super().__init__(vehicle_type, brand)  # Call the constructor of Car\n",
        "        self.battery_capacity = battery_capacity\n",
        "\n",
        "    def display_electric_info(self):\n",
        "        self.display_info()  # Call method from Car\n",
        "        print(f\"Battery Capacity: {self.battery_capacity} kWh\")\n",
        "\n",
        "\n",
        "# Create an instance of ElectricCar\n",
        "my_electric_car = ElectricCar(\"Electric\", \"Tesla\", 75)\n",
        "\n",
        "# Display information about the electric car\n",
        "my_electric_car.display_electric_info()\n"
      ],
      "metadata": {
        "colab": {
          "base_uri": "https://localhost:8080/"
        },
        "id": "PGJ0xqm35Nvg",
        "outputId": "a72e81c5-d2d4-48b3-b1e4-d4959a7344cc"
      },
      "execution_count": 6,
      "outputs": [
        {
          "output_type": "stream",
          "name": "stdout",
          "text": [
            "Vehicle Type: Electric\n",
            "Brand: Tesla\n",
            "Battery Capacity: 75 kWh\n"
          ]
        }
      ]
    },
    {
      "cell_type": "code",
      "source": [
        "#4. Implement a multi-level inheritance scenario where a class Vehicle has an attribute type. Derive a class Cor and further derive a class Electric Car that adds a battery attribute.\n",
        "\n",
        "class Vehicle:\n",
        "    def __init__(self, vehicle_type):\n",
        "        self.vehicle_type = vehicle_type\n",
        "\n",
        "    def display_type(self):\n",
        "        print(f\"Vehicle Type: {self.vehicle_type}\")\n",
        "\n",
        "# Derived class\n",
        "class Car(Vehicle):\n",
        "    def __init__(self, vehicle_type, brand):\n",
        "        super().__init__(vehicle_type)  # Call the constructor of Vehicle\n",
        "        self.brand = brand\n",
        "\n",
        "    def display_info(self):\n",
        "        self.display_type()  # Call method from Vehicle\n",
        "        print(f\"Brand: {self.brand}\")\n",
        "\n",
        "# Further derived class\n",
        "class ElectricCar(Car):\n",
        "    def __init__(self, vehicle_type, brand, battery_capacity):\n",
        "        super().__init__(vehicle_type, brand)  # Call the constructor of Car\n",
        "        self.battery_capacity = battery_capacity\n",
        "\n",
        "    def display_electric_info(self):\n",
        "        self.display_info()  # Call method from Car\n",
        "        print(f\"Battery Capacity: {self.battery_capacity} kWh\")\n",
        "\n",
        "\n",
        "# Create an instance of ElectricCar\n",
        "my_electric_car = ElectricCar(\"Electric\", \"Tesla\", 75)\n",
        "\n",
        "# Display information about the electric car\n",
        "my_electric_car.display_electric_info()"
      ],
      "metadata": {
        "colab": {
          "base_uri": "https://localhost:8080/"
        },
        "id": "Pf0bijEv5x-n",
        "outputId": "41e84ebe-0087-4705-c227-8a40791b0ac1"
      },
      "execution_count": 7,
      "outputs": [
        {
          "output_type": "stream",
          "name": "stdout",
          "text": [
            "Vehicle Type: Electric\n",
            "Brand: Tesla\n",
            "Battery Capacity: 75 kWh\n"
          ]
        }
      ]
    },
    {
      "cell_type": "code",
      "source": [
        "#5. Write a program to demonstrate encapsulation by creating a class BankAccount with private attributes balance and methods to deposit, withdraw, and check balance.\n",
        "\n",
        "class BankAccount:\n",
        "    def __init__(self, initial_balance=0):\n",
        "        self.__balance = initial_balance  # Private attribute\n",
        "\n",
        "    def deposit(self, amount):\n",
        "        if amount > 0:\n",
        "            self.__balance += amount\n",
        "            print(f\"Deposited: ₹{amount:.2f}\")\n",
        "        else:\n",
        "            print(\"Deposit amount must be positive.\")\n",
        "\n",
        "    def withdraw(self, amount):\n",
        "        if 0 < amount <= self.__balance:\n",
        "            self.__balance -= amount\n",
        "            print(f\"Withdrew: ₹{amount:.2f}\")\n",
        "        elif amount > self.__balance:\n",
        "            print(\"Insufficient funds.\")\n",
        "        else:\n",
        "            print(\"Withdrawal amount must be positive.\")\n",
        "\n",
        "    def check_balance(self):\n",
        "        print(f\"Current Balance: ₹{self.__balance:.2f}\")\n",
        "\n",
        "\n",
        "# Create a BankAccount instance with an initial balance\n",
        "my_account = BankAccount(100)\n",
        "\n",
        "# Check balance\n",
        "my_account.check_balance()  # Output: Current Balance: ₹100.00\n",
        "\n",
        "# Deposit money\n",
        "my_account.deposit(50)       # Output: Deposited: ₹50.00\n",
        "my_account.check_balance()    # Output: Current Balance: ₹150.00\n",
        "\n",
        "# Withdraw money\n",
        "my_account.withdraw(30)      # Output: Withdrew:₹30.00\n",
        "my_account.check_balance()    # Output: Current Balance: ₹120.00\n",
        "\n",
        "# Attempt to withdraw more than the balance\n",
        "my_account.withdraw(200)      # Output: Insufficient funds.\n"
      ],
      "metadata": {
        "colab": {
          "base_uri": "https://localhost:8080/"
        },
        "id": "q3QIcYgX6g3w",
        "outputId": "5501e159-6da9-4c0e-dea1-433c6f672a2d"
      },
      "execution_count": 9,
      "outputs": [
        {
          "output_type": "stream",
          "name": "stdout",
          "text": [
            "Current Balance: ₹100.00\n",
            "Deposited: ₹50.00\n",
            "Current Balance: ₹150.00\n",
            "Withdrew: ₹30.00\n",
            "Current Balance: ₹120.00\n",
            "Insufficient funds.\n"
          ]
        }
      ]
    },
    {
      "cell_type": "code",
      "source": [
        "#6. Demonstrate runtime polymorphism using a method play() in a base class instrument. Derive classes Guitar and Piano that implement their own version of play()\n",
        "\n",
        "# Base class\n",
        "class Instrument:\n",
        "    def play(self):\n",
        "        raise NotImplementedError(\"Subclasses must implement this method.\")\n",
        "\n",
        "# Derived class for Guitar\n",
        "class Guitar(Instrument):\n",
        "    def play(self):\n",
        "        return \"Strumming the guitar!\"\n",
        "\n",
        "# Derived class for Piano\n",
        "class Piano(Instrument):\n",
        "    def play(self):\n",
        "        return \"Playing the piano!\"\n",
        "\n",
        "# Example usage\n",
        "def instrument_play(instrument):\n",
        "    print(instrument.play())\n",
        "\n",
        "\n",
        "# Create instances of Guitar and Piano\n",
        "my_guitar = Guitar()\n",
        "my_piano = Piano()\n",
        "\n",
        "# Demonstrate runtime polymorphism\n",
        "instrument_play(my_guitar)  # Output: Strumming the guitar!\n",
        "instrument_play(my_piano)    # Output: Playing the piano!\n"
      ],
      "metadata": {
        "colab": {
          "base_uri": "https://localhost:8080/"
        },
        "id": "jco_begn6xun",
        "outputId": "53fde3ef-8e0a-49f2-a9e1-9751fa910315"
      },
      "execution_count": 10,
      "outputs": [
        {
          "output_type": "stream",
          "name": "stdout",
          "text": [
            "Strumming the guitar!\n",
            "Playing the piano!\n"
          ]
        }
      ]
    },
    {
      "cell_type": "code",
      "source": [
        "#7. Create a class MathOperations with a class method add_numbers() to add two numbers and a static method subtract_numbers() to subtract two numbers.\n",
        "\n",
        "class MathOperations:\n",
        "    @classmethod\n",
        "    def add_numbers(cls, a, b):\n",
        "        \"\"\"Class method to add two numbers.\"\"\"\n",
        "        return a + b\n",
        "\n",
        "    @staticmethod\n",
        "    def subtract_numbers(a, b):\n",
        "        \"\"\"Static method to subtract two numbers.\"\"\"\n",
        "        return a - b\n",
        "\n",
        "\n",
        "# Using the class method to add numbers\n",
        "sum_result = MathOperations.add_numbers(10, 5)\n",
        "print(f\"Sum: {sum_result}\")  # Output: Sum: 15\n",
        "\n",
        "# Using the static method to subtract numbers\n",
        "difference_result = MathOperations.subtract_numbers(10, 5)\n",
        "print(f\"Difference: {difference_result}\")  # Output: Difference: 5\n"
      ],
      "metadata": {
        "colab": {
          "base_uri": "https://localhost:8080/"
        },
        "id": "YKpOwlYB7wu4",
        "outputId": "6de6f93c-b55f-454d-ce4a-9b8efe17f5aa"
      },
      "execution_count": 11,
      "outputs": [
        {
          "output_type": "stream",
          "name": "stdout",
          "text": [
            "Sum: 15\n",
            "Difference: 5\n"
          ]
        }
      ]
    },
    {
      "cell_type": "code",
      "source": [
        "#8. Implement a class Person with a class method to count the total number of persons created.\n",
        "\n",
        "class Person:\n",
        "    # Class variable to keep track of the number of Person instances\n",
        "    total_persons = 0\n",
        "\n",
        "    def __init__(self, name):\n",
        "        self.name = name\n",
        "        Person.total_persons += 1  # Increment the count whenever a new instance is created\n",
        "\n",
        "    @classmethod\n",
        "    def count_persons(cls):\n",
        "        \"\"\"Class method to return the total number of persons created.\"\"\"\n",
        "        return cls.total_persons\n",
        "\n",
        "# Example usage\n",
        "if __name__ == \"__main__\":\n",
        "    # Create instances of Person\n",
        "    person1 = Person(\"Alice\")\n",
        "    person2 = Person(\"Bob\")\n",
        "    person3 = Person(\"Charlie\")\n",
        "\n",
        "    # Count the total number of persons created\n",
        "    print(f\"Total Persons Created: {Person.count_persons()}\")  # Output: Total Persons Created: 3\n"
      ],
      "metadata": {
        "colab": {
          "base_uri": "https://localhost:8080/"
        },
        "id": "XfvqD2pG8KWX",
        "outputId": "b20b7cb2-7cec-4947-a767-5b1906700123"
      },
      "execution_count": 12,
      "outputs": [
        {
          "output_type": "stream",
          "name": "stdout",
          "text": [
            "Total Persons Created: 3\n"
          ]
        }
      ]
    },
    {
      "cell_type": "code",
      "source": [
        "#9. Write a class Fraction with attributes numerator and denominator. Override the str method to display the fraction as 'numerator/denominator'\n",
        "\n",
        "class Fraction:\n",
        "    def __init__(self, numerator, denominator):\n",
        "        if denominator == 0:\n",
        "            raise ValueError(\"Denominator cannot be zero.\")\n",
        "        self.numerator = numerator\n",
        "        self.denominator = denominator\n",
        "\n",
        "    def __str__(self):\n",
        "        return f\"{self.numerator}/{self.denominator}\"\n",
        "\n",
        "\n",
        "# Create instances of Fraction\n",
        "fraction1 = Fraction(3, 4)\n",
        "fraction2 = Fraction(5, 2)\n",
        "\n",
        "# Display the fractions\n",
        "print(f\"Fraction 1: {fraction1}\")  # Output: Fraction 1: 3/4\n",
        "print(f\"Fraction 2: {fraction2}\")  # Output: Fraction 2: 5/2\n",
        "\n"
      ],
      "metadata": {
        "colab": {
          "base_uri": "https://localhost:8080/"
        },
        "id": "D-jyjekE8jmo",
        "outputId": "07a1a929-e725-4543-938a-cb270a317450"
      },
      "execution_count": 13,
      "outputs": [
        {
          "output_type": "stream",
          "name": "stdout",
          "text": [
            "Fraction 1: 3/4\n",
            "Fraction 2: 5/2\n"
          ]
        }
      ]
    },
    {
      "cell_type": "code",
      "source": [
        "#10. Demonstrate operator overloading by creating a class Vector and overriding the add method to add two vectors\n",
        "\n",
        "class Vector:\n",
        "    def __init__(self, x, y):\n",
        "        self.x = x  # x-coordinate\n",
        "        self.y = y  # y-coordinate\n",
        "\n",
        "    def __add__(self, other):\n",
        "        \"\"\"Overload the + operator to add two vectors.\"\"\"\n",
        "        if isinstance(other, Vector):\n",
        "            return Vector(self.x + other.x, self.y + other.y)\n",
        "        return NotImplemented\n",
        "\n",
        "    def __str__(self):\n",
        "        \"\"\"Return a string representation of the vector.\"\"\"\n",
        "        return f\"Vector({self.x}, {self.y})\"\n",
        "\n",
        "\n",
        "vector1 = Vector(2, 3)\n",
        "vector2 = Vector(4, 5)\n",
        "\n",
        "# Add the two vectors using the overloaded + operator\n",
        "result_vector = vector1 + vector2\n",
        "\n",
        "# Print the result\n",
        "print(f\"Result of adding {vector1} and {vector2}: {result_vector}\")  # Output: Vector(6, 8)\n",
        "\n"
      ],
      "metadata": {
        "colab": {
          "base_uri": "https://localhost:8080/"
        },
        "id": "rcdBetVB-TAo",
        "outputId": "ffb95cb2-aeee-4dae-e163-660c2f4056d3"
      },
      "execution_count": 14,
      "outputs": [
        {
          "output_type": "stream",
          "name": "stdout",
          "text": [
            "Result of adding Vector(2, 3) and Vector(4, 5): Vector(6, 8)\n"
          ]
        }
      ]
    },
    {
      "cell_type": "code",
      "source": [
        "#11. Create a class Person with attributes name and age. Add a method greet() that prints \"Hello, my name is {name} and I am (age) years old.\n",
        "\n",
        "class Person:\n",
        "    def __init__(self, name, age):\n",
        "        self.name = name  # Attribute for the person's name\n",
        "        self.age = age    # Attribute for the person's age\n",
        "\n",
        "    def greet(self):\n",
        "        \"\"\"Method to greet the person.\"\"\"\n",
        "        print(f\"Hello, my name is {self.name} and I am {self.age} years old.\")\n",
        "\n",
        "\n",
        "person1 = Person(\"Sukhendu\", 32)\n",
        "\n",
        "# Call the greet method\n",
        "person1.greet()  # Output: Hello, my name is Sukhendu and I am 32 years old.\n"
      ],
      "metadata": {
        "colab": {
          "base_uri": "https://localhost:8080/"
        },
        "id": "TVBuMcIv-1jQ",
        "outputId": "333f36d3-f489-4b0e-ff69-4f8b1c816d96"
      },
      "execution_count": 16,
      "outputs": [
        {
          "output_type": "stream",
          "name": "stdout",
          "text": [
            "Hello, my name is Sukhendu and I am 32 years old.\n"
          ]
        }
      ]
    },
    {
      "cell_type": "code",
      "source": [
        "#12. Implement a class Student with attributes name and grades. Create a method average grade() to compute the average of the grades.\n",
        "\n",
        "class Student:\n",
        "    def __init__(self, name, grades):\n",
        "        self.name = name  # Attribute for the student's name\n",
        "        self.grades = grades  # Attribute for the student's grades (a list of numbers)\n",
        "\n",
        "    def average_grade(self):\n",
        "        \"\"\"Method to compute the average of the grades.\"\"\"\n",
        "        if not self.grades:  # Check if the grades list is empty\n",
        "            return 0\n",
        "        return sum(self.grades) / len(self.grades)\n",
        "\n",
        "\n",
        "# Create an instance of Student with a name and a list of grades\n",
        "student1 = Student(\"Sukhendu\", [85, 90, 78, 92, 88])\n",
        "\n",
        "# Compute and print the average grade\n",
        "avg_grade = student1.average_grade()\n",
        "print(f\"{student1.name}'s average grade: {avg_grade:.2f}\")  # Output: Sukhendu's average grade: 86.60\n"
      ],
      "metadata": {
        "colab": {
          "base_uri": "https://localhost:8080/"
        },
        "id": "38NWaYDZ_PcP",
        "outputId": "0ae0fc12-d7d5-4b2c-d6aa-8176dca0536c"
      },
      "execution_count": 17,
      "outputs": [
        {
          "output_type": "stream",
          "name": "stdout",
          "text": [
            "Sukhendu's average grade: 86.60\n"
          ]
        }
      ]
    },
    {
      "cell_type": "code",
      "source": [
        "#13. Create a class Rectangle with methods set dimensions() to set the dimensions and area() to calculate the area\n",
        "\n",
        "class Rectangle:\n",
        "    def __init__(self):\n",
        "        self.width = 0  # Initialize width\n",
        "        self.height = 0  # Initialize height\n",
        "\n",
        "    def set_dimensions(self, width, height):\n",
        "        \"\"\"Method to set the dimensions of the rectangle.\"\"\"\n",
        "        if width <= 0 or height <= 0:\n",
        "            raise ValueError(\"Width and height must be positive values.\")\n",
        "        self.width = width\n",
        "        self.height = height\n",
        "\n",
        "    def area(self):\n",
        "        \"\"\"Method to calculate the area of the rectangle.\"\"\"\n",
        "        return self.width * self.height\n",
        "\n",
        "\n",
        "# Create an instance of Rectangle\n",
        "my_rectangle = Rectangle()\n",
        "\n",
        "# Set dimensions of the rectangle\n",
        "my_rectangle.set_dimensions(5, 10)\n",
        "\n",
        "# Calculate and print the area\n",
        "print(f\"Area of the rectangle: {my_rectangle.area()}\")  # Output: Area of the rectangle: 50\n"
      ],
      "metadata": {
        "colab": {
          "base_uri": "https://localhost:8080/"
        },
        "id": "UbcoUDYj_tYQ",
        "outputId": "7ec65a46-b4ed-405c-b753-d79ab7c492be"
      },
      "execution_count": 18,
      "outputs": [
        {
          "output_type": "stream",
          "name": "stdout",
          "text": [
            "Area of the rectangle: 50\n"
          ]
        }
      ]
    },
    {
      "cell_type": "code",
      "source": [
        "# 14 Create a class Employee with a method calculate_salary() that computes the salary based on hours worked and hourly rate. Create a derived class Manager that adds a bonus to the salary.\n",
        "\n",
        "class Employee:\n",
        "    def __init__(self, name, hours_worked, hourly_rate):\n",
        "        self.name = name  # Employee's name\n",
        "        self.hours_worked = hours_worked  # Hours worked in a pay period\n",
        "        self.hourly_rate = hourly_rate  # Hourly rate of pay\n",
        "\n",
        "    def calculate_salary(self):\n",
        "        \"\"\"Calculate the salary based on hours worked and hourly rate.\"\"\"\n",
        "        return self.hours_worked * self.hourly_rate\n",
        "\n",
        "class Manager(Employee):\n",
        "    def __init__(self, name, hours_worked, hourly_rate, bonus):\n",
        "        super().__init__(name, hours_worked, hourly_rate)  # Call the constructor of Employee\n",
        "        self.bonus = bonus  # Bonus for the manager\n",
        "\n",
        "    def calculate_salary(self):\n",
        "        \"\"\"Calculate salary including bonus for the manager.\"\"\"\n",
        "        base_salary = super().calculate_salary()  # Get base salary from Employee\n",
        "        return base_salary + self.bonus  # Add bonus to base salary\n",
        "\n",
        "\n",
        "# Create an instance of Employee\n",
        "employee = Employee(\"Raj\", 40, 20)\n",
        "print(f\"{employee.name}'s Salary: ₹{employee.calculate_salary():.2f}\")  # Output: Raj's Salary: ₹800.00\n",
        "\n",
        "# Create an instance of Manager\n",
        "manager = Manager(\"Priya\", 40, 30, 500)\n",
        "print(f\"{manager.name}'s Salary: ₹{manager.calculate_salary():.2f}\")  # Output: Priya's Salary: ₹1700.00\n"
      ],
      "metadata": {
        "colab": {
          "base_uri": "https://localhost:8080/"
        },
        "id": "1aP4gs-s_9Jf",
        "outputId": "69815aa0-6ece-43e5-ce1f-31cc4920c8ae"
      },
      "execution_count": 20,
      "outputs": [
        {
          "output_type": "stream",
          "name": "stdout",
          "text": [
            "Raj's Salary: ₹800.00\n",
            "Priya's Salary: ₹1700.00\n"
          ]
        }
      ]
    },
    {
      "cell_type": "code",
      "source": [
        "# 15. Create a class Product with attributes name, price, and quantity, Implement a method total_price() that calculates the total price of the product.\n",
        "\n",
        "class Product:\n",
        "    def __init__(self, name, price, quantity):\n",
        "        self.name = name      # Name of the product\n",
        "        self.price = price    # Price of the product\n",
        "        self.quantity = quantity  # Quantity of the product\n",
        "\n",
        "    def total_price(self):\n",
        "        \"\"\"Calculate the total price of the product.\"\"\"\n",
        "        return self.price * self.quantity\n",
        "\n",
        "\n",
        "# Create an instance of Product\n",
        "product1 = Product(\"Laptop\", 999.99, 3)\n",
        "\n",
        "# Calculate and print the total price\n",
        "print(f\"Total price for {product1.quantity} {product1.name}(s): ₹{product1.total_price():.2f}\")\n",
        "# Output: Total price for 3 Laptop(s): ₹2999.97\n"
      ],
      "metadata": {
        "colab": {
          "base_uri": "https://localhost:8080/"
        },
        "id": "WHkywTSkA_bA",
        "outputId": "973f0204-3e87-4499-c0a8-66fd0f4edf6e"
      },
      "execution_count": 22,
      "outputs": [
        {
          "output_type": "stream",
          "name": "stdout",
          "text": [
            "Total price for 3 Laptop(s): ₹2999.97\n"
          ]
        }
      ]
    },
    {
      "cell_type": "code",
      "source": [
        "# 16. Create a class Animal with an abstract method sound(). Create two derived classes Cow and Sheep that implement the sound() method\n",
        "\n",
        "from abc import ABC, abstractmethod\n",
        "\n",
        "# Abstract base class\n",
        "class Animal(ABC):\n",
        "    @abstractmethod\n",
        "    def sound(self):\n",
        "        \"\"\"Abstract method to be implemented by derived classes.\"\"\"\n",
        "        pass\n",
        "\n",
        "# Derived class for Cow\n",
        "class Cow(Animal):\n",
        "    def sound(self):\n",
        "        \"\"\"Implement the sound method for Cow.\"\"\"\n",
        "        return \"Moo\"\n",
        "\n",
        "# Derived class for Sheep\n",
        "class Sheep(Animal):\n",
        "    def sound(self):\n",
        "        \"\"\"Implement the sound method for Sheep.\"\"\"\n",
        "        return \"Baa\"\n",
        "\n",
        "\n",
        "# Create instances of Cow and Sheep\n",
        "my_cow = Cow()\n",
        "my_sheep = Sheep()\n",
        "\n",
        "# Print the sounds made by each animal\n",
        "print(f\"Cow sound: {my_cow.sound()}\")  # Output: Cow sound: Moo\n",
        "print(f\"Sheep sound: {my_sheep.sound()}\")  # Output: Sheep sound: Baa\n"
      ],
      "metadata": {
        "colab": {
          "base_uri": "https://localhost:8080/"
        },
        "id": "iyFFEggsBSBP",
        "outputId": "37ec8455-1fde-4f60-b08b-ef5bae9a6c47"
      },
      "execution_count": 23,
      "outputs": [
        {
          "output_type": "stream",
          "name": "stdout",
          "text": [
            "Cow sound: Moo\n",
            "Sheep sound: Baa\n"
          ]
        }
      ]
    },
    {
      "cell_type": "code",
      "source": [
        "#17. Create a class Book with attributes title, author, and year_published. Add a method get_book_info() that returns a formatted string with the book's details.\n",
        "\n",
        "class Book:\n",
        "    def __init__(self, title, author, year_published):\n",
        "        self.title = title              # Attribute for the book's title\n",
        "        self.author = author            # Attribute for the book's author\n",
        "        self.year_published = year_published  # Attribute for the year the book was published\n",
        "\n",
        "    def get_book_info(self):\n",
        "        \"\"\"Return a formatted string with the book's details.\"\"\"\n",
        "        return f\"'{self.title}' by {self.author}, published in {self.year_published}.\"\n",
        "\n",
        "\n",
        "# Create an instance of Book\n",
        "book1 = Book(\"To Kill a Mockingbird\", \"Harper Lee\", 1960)\n",
        "\n",
        "# Get and print the book information\n",
        "print(book1.get_book_info())\n",
        "# Output: 'To Kill a Mockingbird' by Harper Lee, published in 1960.\n"
      ],
      "metadata": {
        "colab": {
          "base_uri": "https://localhost:8080/"
        },
        "id": "uA6IQhA9Bp2X",
        "outputId": "6f760e3b-aca5-4350-9af9-ccfe13dd008f"
      },
      "execution_count": 27,
      "outputs": [
        {
          "output_type": "stream",
          "name": "stdout",
          "text": [
            "'To Kill a Mockingbird' by Harper Lee, published in 1960.\n"
          ]
        }
      ]
    },
    {
      "cell_type": "code",
      "source": [
        "# 18. Create a class House with attributes address and price. Create a derived class Mansion that adds an attribute number_of_rooms.\n",
        "\n",
        "class House:\n",
        "    def __init__(self, address, price):\n",
        "        self.address = address  # Attribute for the house's address\n",
        "        self.price = price      # Attribute for the house's price\n",
        "\n",
        "    def get_info(self):\n",
        "        \"\"\"Return a string with the house's information.\"\"\"\n",
        "        return f\"House located at {self.address}, priced at ₹{self.price:,.2f}\"\n",
        "\n",
        "# Derived class\n",
        "class Mansion(House):\n",
        "    def __init__(self, address, price, number_of_rooms):\n",
        "        super().__init__(address, price)  # Call the constructor of House\n",
        "        self.number_of_rooms = number_of_rooms  # Attribute for number of rooms\n",
        "\n",
        "    def get_info(self):\n",
        "        \"\"\"Return a string with the mansion's information, including number of rooms.\"\"\"\n",
        "        base_info = super().get_info()  # Get info from House\n",
        "        return f\"{base_info}, with {self.number_of_rooms} rooms.\"\n",
        "\n",
        "\n",
        "# Create an instance of House\n",
        "my_house = House(\"123 Main St\", 250000)\n",
        "print(my_house.get_info())\n",
        "# Output: House located at 123 Main St, priced at ₹250,000.00\n",
        "\n",
        "# Create an instance of Mansion\n",
        "my_mansion = Mansion(\"456 Luxury Ave\", 1500000, 5)\n",
        "print(my_mansion.get_info())\n",
        "# Output: House located at 456 Luxury Ave, priced at ₹1,500,000.00, with 5 rooms.\n"
      ],
      "metadata": {
        "colab": {
          "base_uri": "https://localhost:8080/"
        },
        "id": "m6ZAvpR5B58_",
        "outputId": "e8e37cb7-dcc9-4919-c98f-7073a6c7031d"
      },
      "execution_count": 29,
      "outputs": [
        {
          "output_type": "stream",
          "name": "stdout",
          "text": [
            "House located at 123 Main St, priced at ₹250,000.00\n",
            "House located at 456 Luxury Ave, priced at ₹1,500,000.00, with 5 rooms.\n"
          ]
        }
      ]
    },
    {
      "cell_type": "code",
      "source": [],
      "metadata": {
        "id": "lAzhWxI0CwLA"
      },
      "execution_count": null,
      "outputs": []
    }
  ]
}